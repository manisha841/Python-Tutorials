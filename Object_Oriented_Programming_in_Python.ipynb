{
  "nbformat": 4,
  "nbformat_minor": 0,
  "metadata": {
    "colab": {
      "name": "Object Oriented Programming_in_Python.ipynb",
      "provenance": []
    },
    "kernelspec": {
      "name": "python3",
      "display_name": "Python 3"
    },
    "language_info": {
      "name": "python"
    }
  },
  "cells": [
    {
      "cell_type": "markdown",
      "metadata": {
        "id": "DpfuUj-0-aiZ"
      },
      "source": [
        "Why  Object Oriented Programming?<br>\n",
        "<li>Code reuse</li>\n",
        "<li>Encapsulation(private,public,protected)</li>\n",
        "<li>Polymorphism</li>"
      ]
    },
    {
      "cell_type": "code",
      "metadata": {
        "colab": {
          "base_uri": "https://localhost:8080/"
        },
        "id": "K530i324-Y5S",
        "outputId": "2f59ab95-a154-4423-9bcd-835c61fce6b9"
      },
      "source": [
        "mylist=[1,2,3]\n",
        "mylist.append(4)\n",
        "mylist #here mylist is an object which is the instance of class defined in Python library\n",
        "# and append is the method defined inside of that class list and we can access \n",
        "#mylist object which is the instance/object of list class using . operator"
      ],
      "execution_count": null,
      "outputs": [
        {
          "output_type": "execute_result",
          "data": {
            "text/plain": [
              "[1, 2, 3, 4]"
            ]
          },
          "metadata": {},
          "execution_count": 1
        }
      ]
    },
    {
      "cell_type": "markdown",
      "metadata": {
        "id": "XztzZTVJImKj"
      },
      "source": [
        "In above code mylist was built in from list class and we can also create similar classes using OOP.\n",
        "OOP allows us to create our own attributes and methods."
      ]
    },
    {
      "cell_type": "code",
      "metadata": {
        "id": "G5edlqJJIpgr"
      },
      "source": [
        "class Sample():\n",
        "  pass"
      ],
      "execution_count": null,
      "outputs": []
    },
    {
      "cell_type": "code",
      "metadata": {
        "id": "vK98dLDwJCl0"
      },
      "source": [
        "my_sample=Sample()"
      ],
      "execution_count": null,
      "outputs": []
    },
    {
      "cell_type": "code",
      "metadata": {
        "colab": {
          "base_uri": "https://localhost:8080/"
        },
        "id": "srT1bpOBJJYn",
        "outputId": "c98ae0dd-7b69-4e5e-f747-c96b5a6caad3"
      },
      "source": [
        "type(my_sample)"
      ],
      "execution_count": null,
      "outputs": [
        {
          "output_type": "execute_result",
          "data": {
            "text/plain": [
              "__main__.Sample"
            ]
          },
          "metadata": {},
          "execution_count": 4
        }
      ]
    },
    {
      "cell_type": "code",
      "metadata": {
        "id": "2xuP1lcmJKx-"
      },
      "source": [
        "class Dog():\n",
        " #init method is called whenever we create an instance of a class\n",
        "  #init is a constructor whose job is to assign values to objects.\n",
        "  #self keyword connects instance of the class with the method of the class.\n",
        "  #for ex. if we create an instance of class self will help to connect that object with the respective class.\n",
        "  #self:reference to instance of the class.\n",
        "  def __init__(self,breed): #creating a template that will be used later.\n",
        "    self.breed=breed \n"
      ],
      "execution_count": null,
      "outputs": []
    },
    {
      "cell_type": "code",
      "metadata": {
        "colab": {
          "base_uri": "https://localhost:8080/",
          "height": 35
        },
        "id": "AeZztY8pKEeP",
        "outputId": "e5c3783b-6176-4c99-8b82-f371cacd1cc7"
      },
      "source": [
        "my_dog=Dog('Lab')\n",
        "my_dog.breed"
      ],
      "execution_count": null,
      "outputs": [
        {
          "output_type": "execute_result",
          "data": {
            "application/vnd.google.colaboratory.intrinsic+json": {
              "type": "string"
            },
            "text/plain": [
              "'Lab'"
            ]
          },
          "metadata": {},
          "execution_count": 6
        }
      ]
    },
    {
      "cell_type": "code",
      "metadata": {
        "id": "-wmiy8gHKtix"
      },
      "source": [
        " class Dog():\n",
        "#attributes(characteristics of object)\n",
        "#we take in argument here mybreed\n",
        "#assign it using self.attribute_name\n",
        "\n",
        "   def __init__(self,mybreed): # we pass in mybreed \n",
        "     self.my_attribute=mybreed # whatever value is provided for mybreed in Dog() class\n",
        "     # and set equal to self.breed"
      ],
      "execution_count": null,
      "outputs": []
    },
    {
      "cell_type": "code",
      "metadata": {
        "id": "rMC6sEANMNhy"
      },
      "source": [
        " my_dog=Dog(\"Huskie\") #its expecting mybreed to be passed in."
      ],
      "execution_count": null,
      "outputs": []
    },
    {
      "cell_type": "code",
      "metadata": {
        "colab": {
          "base_uri": "https://localhost:8080/",
          "height": 35
        },
        "id": "UG5X3AA1M5w6",
        "outputId": "e2117f34-1c0c-4111-a140-b2787af0880c"
      },
      "source": [
        "my_dog.my_attribute #self.my_attribute has value assigned from mybreed "
      ],
      "execution_count": null,
      "outputs": [
        {
          "output_type": "execute_result",
          "data": {
            "application/vnd.google.colaboratory.intrinsic+json": {
              "type": "string"
            },
            "text/plain": [
              "'Huskie'"
            ]
          },
          "metadata": {},
          "execution_count": 9
        }
      ]
    },
    {
      "cell_type": "code",
      "metadata": {
        "id": "rGU9GOlrNGvm"
      },
      "source": [
        "class Dog():\n",
        "  age=15\n",
        "  def __init__(self,breed,name,spots):\n",
        "    self.breed=breed\n",
        "    self.name=name\n",
        "\n",
        "    #expect boolean T/F does dog has spots or not.\n",
        "    self.spots=spots\n",
        "  def show_results(self):\n",
        "    return 'My dog\\'s breed is ' + self.breed +' his age is '+str(self.age)\n",
        "\n"
      ],
      "execution_count": null,
      "outputs": []
    },
    {
      "cell_type": "code",
      "metadata": {
        "colab": {
          "base_uri": "https://localhost:8080/",
          "height": 35
        },
        "id": "w82169xfNnaj",
        "outputId": "ade26b3c-38ba-42e3-a434-63458ebb050e"
      },
      "source": [
        "my_dog=Dog(breed='lab',name='Sammy',spots=False)\n",
        "my_dog.breed"
      ],
      "execution_count": null,
      "outputs": [
        {
          "output_type": "execute_result",
          "data": {
            "application/vnd.google.colaboratory.intrinsic+json": {
              "type": "string"
            },
            "text/plain": [
              "'lab'"
            ]
          },
          "metadata": {},
          "execution_count": 11
        }
      ]
    },
    {
      "cell_type": "code",
      "metadata": {
        "colab": {
          "base_uri": "https://localhost:8080/"
        },
        "id": "tEpcXGrCNv9Y",
        "outputId": "d27b1e80-11b9-41e2-9f0d-8b5e3779fc3c"
      },
      "source": [
        "my_dog.spots"
      ],
      "execution_count": null,
      "outputs": [
        {
          "output_type": "execute_result",
          "data": {
            "text/plain": [
              "False"
            ]
          },
          "metadata": {},
          "execution_count": 12
        }
      ]
    },
    {
      "cell_type": "code",
      "metadata": {
        "colab": {
          "base_uri": "https://localhost:8080/",
          "height": 35
        },
        "id": "1jKSem4hNyKr",
        "outputId": "5df6cdc6-db1d-433b-8843-a3682d5ba808"
      },
      "source": [
        "my_dog.show_results()"
      ],
      "execution_count": null,
      "outputs": [
        {
          "output_type": "execute_result",
          "data": {
            "application/vnd.google.colaboratory.intrinsic+json": {
              "type": "string"
            },
            "text/plain": [
              "\"My dog's breed is lab his age is 15\""
            ]
          },
          "metadata": {},
          "execution_count": 13
        }
      ]
    },
    {
      "cell_type": "code",
      "metadata": {
        "id": "U7-ZeKDSdIAW"
      },
      "source": [
        "class Dog():\n",
        "  #class object attribute\n",
        "  #same for any instance of a class.\n",
        "  #since these attributes are same for any instance, we dont need self keyword\n",
        "  #because we know self keyword is a reference to particular instance of class.\n",
        "  species='mammal'\n",
        "  def __init__(self,breed,name,spots):\n",
        "    self.breed=breed\n",
        "    self.name=name\n",
        "    self.spots=spots\n",
        "\n",
        "  #operations/actions----Methods\n",
        "  def bark(self):\n",
        "    print('WOOF! My name is '+self.name) #we need to reference particular object."
      ],
      "execution_count": null,
      "outputs": []
    },
    {
      "cell_type": "code",
      "metadata": {
        "id": "Dy38hHEids5s"
      },
      "source": [
        "my_dog=Dog(breed='lab',name='Sammy',spots=False)"
      ],
      "execution_count": null,
      "outputs": []
    },
    {
      "cell_type": "code",
      "metadata": {
        "colab": {
          "base_uri": "https://localhost:8080/"
        },
        "id": "mCA_a8CxeJq3",
        "outputId": "5b884511-d218-4386-c672-6d176b7c4702"
      },
      "source": [
        "type(my_dog)"
      ],
      "execution_count": null,
      "outputs": [
        {
          "output_type": "execute_result",
          "data": {
            "text/plain": [
              "__main__.Dog"
            ]
          },
          "metadata": {},
          "execution_count": 16
        }
      ]
    },
    {
      "cell_type": "code",
      "metadata": {
        "colab": {
          "base_uri": "https://localhost:8080/",
          "height": 35
        },
        "id": "s8wAk-cieLjJ",
        "outputId": "d269a016-4225-46f6-a75f-cfa5142e1dd2"
      },
      "source": [
        "my_dog.species #even though we did not define species in my_dog instance ,\n",
        "#its always available to us."
      ],
      "execution_count": null,
      "outputs": [
        {
          "output_type": "execute_result",
          "data": {
            "application/vnd.google.colaboratory.intrinsic+json": {
              "type": "string"
            },
            "text/plain": [
              "'mammal'"
            ]
          },
          "metadata": {},
          "execution_count": 17
        }
      ]
    },
    {
      "cell_type": "code",
      "metadata": {
        "colab": {
          "base_uri": "https://localhost:8080/"
        },
        "id": "WCyLExM1fJOl",
        "outputId": "c2460df4-d65c-4478-fe83-188c0dc5ca40"
      },
      "source": [
        "my_dog.bark() #here bark is a method defined inside class of my_dog object."
      ],
      "execution_count": null,
      "outputs": [
        {
          "output_type": "stream",
          "name": "stdout",
          "text": [
            "WOOF! My name is Sammy\n"
          ]
        }
      ]
    },
    {
      "cell_type": "markdown",
      "metadata": {
        "id": "I9hIoKreffnq"
      },
      "source": [
        "Methods are functions defined body of class. "
      ]
    },
    {
      "cell_type": "code",
      "metadata": {
        "id": "9JAyZX7hfoqK"
      },
      "source": [
        "class Dog():\n",
        "\n",
        "  species='mammal'\n",
        "\n",
        "  def __init__(self,breed,name,spots):\n",
        "    self.breed=breed\n",
        "    self.name=name\n",
        "    self.spots=spots\n",
        "\n",
        "  #operations/actions----Methods\n",
        "  def bark(self,number):\n",
        "    return 'WOOF! My name is {} and the number is {}'.format(self.name,number)\n",
        "     #we need to reference particular object.\n",
        "     #here we no longer need to add self to number because number is already\n",
        "     #provided for us when we call 'bark()'\n"
      ],
      "execution_count": null,
      "outputs": []
    },
    {
      "cell_type": "code",
      "metadata": {
        "id": "19NKPq5LhY6L"
      },
      "source": [
        "my_dog=Dog('Lab','Sammy',False)"
      ],
      "execution_count": null,
      "outputs": []
    },
    {
      "cell_type": "code",
      "metadata": {
        "colab": {
          "base_uri": "https://localhost:8080/",
          "height": 35
        },
        "id": "z6S4WdpdhcvQ",
        "outputId": "dc97b96d-085e-4fe4-faa9-2ee78fb5f375"
      },
      "source": [
        "my_dog.bark(15)"
      ],
      "execution_count": null,
      "outputs": [
        {
          "output_type": "execute_result",
          "data": {
            "application/vnd.google.colaboratory.intrinsic+json": {
              "type": "string"
            },
            "text/plain": [
              "'WOOF! My name is Sammy and the number is 15'"
            ]
          },
          "metadata": {},
          "execution_count": 21
        }
      ]
    },
    {
      "cell_type": "code",
      "metadata": {
        "id": "Wk0RaPwzhi6q"
      },
      "source": [
        " class Circle():\n",
        "   pi=3.14\n",
        "   def __init__(self,radius=1):\n",
        "     self.radius=radius\n",
        "     self.area=radius*radius*Circle.pi\n",
        "  #method\n",
        "   def get_circumference(self):\n",
        "    return Circle.pi*self.radius*self.radius\n"
      ],
      "execution_count": null,
      "outputs": []
    },
    {
      "cell_type": "code",
      "metadata": {
        "id": "QNGYdQdqjX9k"
      },
      "source": [
        "my_circle=Circle()"
      ],
      "execution_count": null,
      "outputs": []
    },
    {
      "cell_type": "code",
      "metadata": {
        "colab": {
          "base_uri": "https://localhost:8080/"
        },
        "id": "lP3EsWKzjhBX",
        "outputId": "77dd4392-5432-4510-a074-05b909fd88e5"
      },
      "source": [
        "my_circle.get_circumference()"
      ],
      "execution_count": null,
      "outputs": [
        {
          "output_type": "execute_result",
          "data": {
            "text/plain": [
              "3.14"
            ]
          },
          "metadata": {},
          "execution_count": 24
        }
      ]
    },
    {
      "cell_type": "code",
      "metadata": {
        "id": "tSfx6B6VjjWq"
      },
      "source": [
        "my_circle=Circle(30)"
      ],
      "execution_count": null,
      "outputs": []
    },
    {
      "cell_type": "code",
      "metadata": {
        "colab": {
          "base_uri": "https://localhost:8080/"
        },
        "id": "f6wnen_fpWnE",
        "outputId": "99f9b857-8bdc-404f-ba97-88db51bdcca8"
      },
      "source": [
        "my_circle.get_circumference()"
      ],
      "execution_count": null,
      "outputs": [
        {
          "output_type": "execute_result",
          "data": {
            "text/plain": [
              "2826.0"
            ]
          },
          "metadata": {},
          "execution_count": 26
        }
      ]
    },
    {
      "cell_type": "code",
      "metadata": {
        "id": "tdyk87OTpZre"
      },
      "source": [
        ""
      ],
      "execution_count": null,
      "outputs": []
    },
    {
      "cell_type": "markdown",
      "metadata": {
        "id": "RDBQboGdp5Yh"
      },
      "source": [
        "Inheritance and Polymorphism: \n",
        "Way to form new class using classes that are already being defined and reduce the complexity of program.-inheritance"
      ]
    },
    {
      "cell_type": "code",
      "metadata": {
        "id": "bi0l0Wf3p-he"
      },
      "source": [
        "class Animal():\n",
        "  def __init__(self):\n",
        "    print(\"Animal Created\")\n",
        "\n",
        "  def who_am_i(self):\n",
        "    print(\"I am an animal\")\n",
        "  \n",
        "  def eat(self):\n",
        "    print(\"I am eating\")"
      ],
      "execution_count": null,
      "outputs": []
    },
    {
      "cell_type": "code",
      "metadata": {
        "colab": {
          "base_uri": "https://localhost:8080/"
        },
        "id": "WcblxuNAqY7B",
        "outputId": "2f491747-8e24-4738-9234-7262fc7f1af4"
      },
      "source": [
        "my_animal=Animal()"
      ],
      "execution_count": null,
      "outputs": [
        {
          "output_type": "stream",
          "name": "stdout",
          "text": [
            "Animal Created\n"
          ]
        }
      ]
    },
    {
      "cell_type": "code",
      "metadata": {
        "colab": {
          "base_uri": "https://localhost:8080/"
        },
        "id": "D9zfncb4qxa5",
        "outputId": "094986b7-b827-4299-d007-6a142c861ae1"
      },
      "source": [
        "my_animal.who_am_i()"
      ],
      "execution_count": null,
      "outputs": [
        {
          "output_type": "stream",
          "name": "stdout",
          "text": [
            "I am an animal\n"
          ]
        }
      ]
    },
    {
      "cell_type": "code",
      "metadata": {
        "id": "QKFWk260q06d"
      },
      "source": [
        " #a lot of methods and attributes will be useful from Animal to Dog\n",
        "#maybe we want to reuse some of prior class, we can do that by inheriting animal (base) class.\n",
        "\n",
        " class Dog(Animal): #derived class.\n",
        "   def __init__(self):\n",
        "     Animal.__init__(self)\n",
        "     print(\"Dog created\")\n",
        "   \n",
        "\n",
        "   \n",
        "   \n",
        "    "
      ],
      "execution_count": null,
      "outputs": []
    },
    {
      "cell_type": "code",
      "metadata": {
        "colab": {
          "base_uri": "https://localhost:8080/"
        },
        "id": "l6Sz01dsO-8I",
        "outputId": "2607aa14-5344-4f0f-bc61-c5363b6fae23"
      },
      "source": [
        "mydog=Dog()"
      ],
      "execution_count": null,
      "outputs": [
        {
          "output_type": "stream",
          "name": "stdout",
          "text": [
            "Animal Created\n",
            "Dog created\n"
          ]
        }
      ]
    },
    {
      "cell_type": "code",
      "metadata": {
        "colab": {
          "base_uri": "https://localhost:8080/"
        },
        "id": "GXhGDLrbZMqE",
        "outputId": "62d5b4dc-c60f-4a1a-f448-f8bb3ebc42f5"
      },
      "source": [
        "mydog.eat() #all the methods available for animal class will be now available for Dog \n",
        "#class without having to define them inside Dog,we dont need to rewrite."
      ],
      "execution_count": null,
      "outputs": [
        {
          "output_type": "stream",
          "name": "stdout",
          "text": [
            "I am eating\n"
          ]
        }
      ]
    },
    {
      "cell_type": "code",
      "metadata": {
        "id": "0uxNSOmBZaw5"
      },
      "source": [
        " #overriding method\n",
        " class Dog(Animal): #derived class.\n",
        "   def __init__(self):\n",
        "     Animal.__init__(self)\n",
        "     print(\"Dog created\")\n",
        "\n",
        "   def who_am_i(self):\n",
        "     print(\"I am a dog\")"
      ],
      "execution_count": null,
      "outputs": []
    },
    {
      "cell_type": "code",
      "metadata": {
        "colab": {
          "base_uri": "https://localhost:8080/"
        },
        "id": "xQ3FcvQNZ2-s",
        "outputId": "4451e80e-8aa2-4c53-af94-5b069c79cff8"
      },
      "source": [
        "mydog=Dog()"
      ],
      "execution_count": null,
      "outputs": [
        {
          "output_type": "stream",
          "name": "stdout",
          "text": [
            "Animal Created\n",
            "Dog created\n"
          ]
        }
      ]
    },
    {
      "cell_type": "code",
      "metadata": {
        "colab": {
          "base_uri": "https://localhost:8080/"
        },
        "id": "O4K_LSqsZ5Hk",
        "outputId": "dd1beec2-8314-4b17-f17e-58415025d758"
      },
      "source": [
        "mydog.who_am_i() #here the method has been overriden for Dog class."
      ],
      "execution_count": null,
      "outputs": [
        {
          "output_type": "stream",
          "name": "stdout",
          "text": [
            "I am a dog\n"
          ]
        }
      ]
    },
    {
      "cell_type": "code",
      "metadata": {
        "id": "VmXxSw_IaBFp"
      },
      "source": [
        " #overriding method\n",
        " class Dog(Animal): #derived class.\n",
        "   def __init__(self):\n",
        "     Animal.__init__(self)\n",
        "     print(\"Dog created\")\n",
        "\n",
        "     def who_am_i(self):\n",
        "       print(\"I am a dog\")"
      ],
      "execution_count": null,
      "outputs": []
    },
    {
      "cell_type": "code",
      "metadata": {
        "colab": {
          "base_uri": "https://localhost:8080/"
        },
        "id": "0y2jKYqratgQ",
        "outputId": "81db94a6-abdc-49b2-962b-1a80feba62d2"
      },
      "source": [
        "dog=Dog()\n",
        "dog.who_am_i() #here the method defined inside Animal class has been called \n",
        "#as it is defined inside __init__ method of Dog class but not as a separate method."
      ],
      "execution_count": null,
      "outputs": [
        {
          "output_type": "stream",
          "name": "stdout",
          "text": [
            "Animal Created\n",
            "Dog created\n",
            "I am an animal\n"
          ]
        }
      ]
    },
    {
      "cell_type": "code",
      "metadata": {
        "id": "kHyC6iIya1MW"
      },
      "source": [
        " #overriding method\n",
        " class Dog(Animal): #derived class.\n",
        "   def __init__(self):\n",
        "     Animal.__init__(self)\n",
        "     print(\"Dog created\")\n",
        "\n",
        "   def eat(self):\n",
        "     print(\"I am a dog and eating.\")\n",
        "\n",
        "   def bark(self):\n",
        "     print(\"WOOF!\")"
      ],
      "execution_count": null,
      "outputs": []
    },
    {
      "cell_type": "code",
      "metadata": {
        "colab": {
          "base_uri": "https://localhost:8080/"
        },
        "id": "XA5gCAV1cWcW",
        "outputId": "191825bd-e670-4644-ed05-a4bfd48bbc97"
      },
      "source": [
        "my_dog=Dog()"
      ],
      "execution_count": null,
      "outputs": [
        {
          "output_type": "stream",
          "name": "stdout",
          "text": [
            "Animal Created\n",
            "Dog created\n"
          ]
        }
      ]
    },
    {
      "cell_type": "code",
      "metadata": {
        "colab": {
          "base_uri": "https://localhost:8080/"
        },
        "id": "3bLltFNicdK8",
        "outputId": "13a19cb9-d1f8-4ec0-c4c9-edb351d88fd4"
      },
      "source": [
        "my_dog.eat()"
      ],
      "execution_count": null,
      "outputs": [
        {
          "output_type": "stream",
          "name": "stdout",
          "text": [
            "I am a dog and eating.\n"
          ]
        }
      ]
    },
    {
      "cell_type": "code",
      "metadata": {
        "colab": {
          "base_uri": "https://localhost:8080/"
        },
        "id": "OTTPTeh1cgAf",
        "outputId": "f6ebd41f-c9be-4119-a129-c35574e29e28"
      },
      "source": [
        "my_animal.eat() #method is overriden for new object but will still be same \n",
        "#for base class if we ever need to call it."
      ],
      "execution_count": null,
      "outputs": [
        {
          "output_type": "stream",
          "name": "stdout",
          "text": [
            "I am eating\n"
          ]
        }
      ]
    },
    {
      "cell_type": "code",
      "metadata": {
        "id": "ByePTLwaclih"
      },
      "source": [
        "### Polymorphism"
      ],
      "execution_count": null,
      "outputs": []
    },
    {
      "cell_type": "markdown",
      "metadata": {
        "id": "j-SuI43bc8e-"
      },
      "source": [
        "Polymorphism refers to the way in which different object classes share the same method names and those methods can be called from the same place even though variety of new objects might pass in."
      ]
    },
    {
      "cell_type": "code",
      "metadata": {
        "id": "9Yr9ZaFTcvU7"
      },
      "source": [
        "class Dog():\n",
        "  def __init__(self,name):\n",
        "    self.name=name\n",
        "\n",
        "  def speak(self):\n",
        "    return self.name +\" says woof!\""
      ],
      "execution_count": null,
      "outputs": []
    },
    {
      "cell_type": "code",
      "metadata": {
        "id": "F-U3y4BcdZfj"
      },
      "source": [
        "class Cat():\n",
        "  def __init__(self,name):\n",
        "    self.name=name\n",
        "\n",
        "  def speak(self):\n",
        "    return self.name +\" says meow!\""
      ],
      "execution_count": null,
      "outputs": []
    },
    {
      "cell_type": "code",
      "metadata": {
        "id": "Ozfxf259dc1P"
      },
      "source": [
        "niko=Dog(\"niko\")\n",
        "felix=Cat(\"felix\")"
      ],
      "execution_count": null,
      "outputs": []
    },
    {
      "cell_type": "code",
      "metadata": {
        "colab": {
          "base_uri": "https://localhost:8080/"
        },
        "id": "z0S0PQa8dkMB",
        "outputId": "7f9f5558-cef8-4466-87d7-d2d1f988e987"
      },
      "source": [
        "print(niko.speak())"
      ],
      "execution_count": null,
      "outputs": [
        {
          "output_type": "stream",
          "name": "stdout",
          "text": [
            "niko says woof!\n"
          ]
        }
      ]
    },
    {
      "cell_type": "code",
      "metadata": {
        "colab": {
          "base_uri": "https://localhost:8080/"
        },
        "id": "McRvklMudnMp",
        "outputId": "40f3bd11-56b9-4589-c2a1-42e0ff58ca4d"
      },
      "source": [
        "print(felix.speak())"
      ],
      "execution_count": null,
      "outputs": [
        {
          "output_type": "stream",
          "name": "stdout",
          "text": [
            "felix says meow!\n"
          ]
        }
      ]
    },
    {
      "cell_type": "code",
      "metadata": {
        "colab": {
          "base_uri": "https://localhost:8080/"
        },
        "id": "NiJvoU6FdqwW",
        "outputId": "c09f28ae-ad16-44fa-bd23-ff7d37f5f7d7"
      },
      "source": [
        "for pet in [niko,felix]:\n",
        "  print(type(pet))\n",
        "  print(pet.speak())"
      ],
      "execution_count": null,
      "outputs": [
        {
          "output_type": "stream",
          "name": "stdout",
          "text": [
            "<class '__main__.Dog'>\n",
            "niko says woof!\n",
            "<class '__main__.Cat'>\n",
            "felix says meow!\n"
          ]
        }
      ]
    },
    {
      "cell_type": "code",
      "metadata": {
        "id": "yuT8TM1jd_J8"
      },
      "source": [
        "#special methods/magic methods/dunder methods:allows us to use built in operations in Python such as len print with own user created object. "
      ],
      "execution_count": null,
      "outputs": []
    },
    {
      "cell_type": "code",
      "metadata": {
        "id": "__ZT29JqfQ2X"
      },
      "source": [
        "mylist=[1,2,3]"
      ],
      "execution_count": null,
      "outputs": []
    },
    {
      "cell_type": "code",
      "metadata": {
        "colab": {
          "base_uri": "https://localhost:8080/"
        },
        "id": "s66VQFeZfd8R",
        "outputId": "8ba686e3-edc5-4595-b591-7b599dec3b7b"
      },
      "source": [
        "len(mylist)"
      ],
      "execution_count": null,
      "outputs": [
        {
          "output_type": "execute_result",
          "data": {
            "text/plain": [
              "3"
            ]
          },
          "metadata": {},
          "execution_count": 81
        }
      ]
    },
    {
      "cell_type": "code",
      "metadata": {
        "id": "Ry4LPKKoffHM"
      },
      "source": [
        "class Sample():\n",
        "  pass"
      ],
      "execution_count": null,
      "outputs": []
    },
    {
      "cell_type": "code",
      "metadata": {
        "id": "Tbq-ktfbfhjq"
      },
      "source": [
        "mysample=Sample()"
      ],
      "execution_count": null,
      "outputs": []
    },
    {
      "cell_type": "code",
      "metadata": {
        "colab": {
          "base_uri": "https://localhost:8080/",
          "height": 161
        },
        "id": "vZIXoYUffiwr",
        "outputId": "598966b6-b079-4e54-fc3c-d1e99babd9cf"
      },
      "source": [
        "len(mysample)"
      ],
      "execution_count": null,
      "outputs": [
        {
          "output_type": "error",
          "ename": "TypeError",
          "evalue": "ignored",
          "traceback": [
            "\u001b[0;31m---------------------------------------------------------------------------\u001b[0m",
            "\u001b[0;31mTypeError\u001b[0m                                 Traceback (most recent call last)",
            "\u001b[0;32m<ipython-input-84-97b353a42cb3>\u001b[0m in \u001b[0;36m<module>\u001b[0;34m()\u001b[0m\n\u001b[0;32m----> 1\u001b[0;31m \u001b[0mlen\u001b[0m\u001b[0;34m(\u001b[0m\u001b[0mmysample\u001b[0m\u001b[0;34m)\u001b[0m\u001b[0;34m\u001b[0m\u001b[0;34m\u001b[0m\u001b[0m\n\u001b[0m",
            "\u001b[0;31mTypeError\u001b[0m: object of type 'Sample' has no len()"
          ]
        }
      ]
    },
    {
      "cell_type": "code",
      "metadata": {
        "id": "qWmizX5TfkA3"
      },
      "source": [
        " class Book():\n",
        "   def __init__(self,title,author,pages):\n",
        "     self.title=title\n",
        "     self.author=author\n",
        "     self.pages=pages\n",
        "\n",
        "#__str__ is used in to show a string representation of your object to be\n",
        "# read easily by others.\n",
        "   def __str__(self):\n",
        "     return f\"{self.title} by {self.author}\" \n",
        "\n",
        "   def __len__(self):\n",
        "     return self.pages\n",
        "    \n",
        "   def __del__(self):\n",
        "     print(\"A book object has been deleted.\")"
      ],
      "execution_count": null,
      "outputs": []
    },
    {
      "cell_type": "code",
      "metadata": {
        "id": "AOekYsvTf5Vq"
      },
      "source": [
        "b=Book(\"Python Programming\",\"mannu\",400)"
      ],
      "execution_count": null,
      "outputs": []
    },
    {
      "cell_type": "code",
      "metadata": {
        "colab": {
          "base_uri": "https://localhost:8080/",
          "height": 35
        },
        "id": "2hIezCtFf9Dj",
        "outputId": "634642d8-a3ef-44d1-9491-0132f60f0402"
      },
      "source": [
        "b.title"
      ],
      "execution_count": null,
      "outputs": [
        {
          "output_type": "execute_result",
          "data": {
            "application/vnd.google.colaboratory.intrinsic+json": {
              "type": "string"
            },
            "text/plain": [
              "'Python Programming'"
            ]
          },
          "metadata": {},
          "execution_count": 112
        }
      ]
    },
    {
      "cell_type": "code",
      "metadata": {
        "colab": {
          "base_uri": "https://localhost:8080/",
          "height": 35
        },
        "id": "Mydq5g_Tf9om",
        "outputId": "4f5bd8b5-2ad0-4047-9a13-b0f2ecde73ff"
      },
      "source": [
        "str(b)"
      ],
      "execution_count": null,
      "outputs": [
        {
          "output_type": "execute_result",
          "data": {
            "application/vnd.google.colaboratory.intrinsic+json": {
              "type": "string"
            },
            "text/plain": [
              "'Python Programming by mannu'"
            ]
          },
          "metadata": {},
          "execution_count": 113
        }
      ]
    },
    {
      "cell_type": "code",
      "metadata": {
        "colab": {
          "base_uri": "https://localhost:8080/"
        },
        "id": "dp6NNfaigPrx",
        "outputId": "5874adee-7f9e-4207-bfdf-71bce7741e84"
      },
      "source": [
        "len(b)"
      ],
      "execution_count": null,
      "outputs": [
        {
          "output_type": "execute_result",
          "data": {
            "text/plain": [
              "400"
            ]
          },
          "metadata": {},
          "execution_count": 114
        }
      ]
    },
    {
      "cell_type": "code",
      "metadata": {
        "colab": {
          "base_uri": "https://localhost:8080/"
        },
        "id": "6YLHH-t4gv0u",
        "outputId": "e47459f5-ade6-435c-8f8f-3c71cdc76ef1"
      },
      "source": [
        "del b"
      ],
      "execution_count": null,
      "outputs": [
        {
          "output_type": "stream",
          "name": "stdout",
          "text": [
            "A book object has been deleted.\n"
          ]
        }
      ]
    },
    {
      "cell_type": "code",
      "metadata": {
        "colab": {
          "base_uri": "https://localhost:8080/",
          "height": 161
        },
        "id": "QoXzmBLKg3mt",
        "outputId": "33608406-d9d7-4fe2-b472-ee8560bf1f22"
      },
      "source": [
        "b"
      ],
      "execution_count": null,
      "outputs": [
        {
          "output_type": "error",
          "ename": "NameError",
          "evalue": "ignored",
          "traceback": [
            "\u001b[0;31m---------------------------------------------------------------------------\u001b[0m",
            "\u001b[0;31mNameError\u001b[0m                                 Traceback (most recent call last)",
            "\u001b[0;32m<ipython-input-116-89e6c98d9288>\u001b[0m in \u001b[0;36m<module>\u001b[0;34m()\u001b[0m\n\u001b[0;32m----> 1\u001b[0;31m \u001b[0mb\u001b[0m\u001b[0;34m\u001b[0m\u001b[0;34m\u001b[0m\u001b[0m\n\u001b[0m",
            "\u001b[0;31mNameError\u001b[0m: name 'b' is not defined"
          ]
        }
      ]
    },
    {
      "cell_type": "markdown",
      "metadata": {
        "id": "lQAmKcVO1CX5"
      },
      "source": [
        " Simple Bank Management "
      ]
    },
    {
      "cell_type": "code",
      "metadata": {
        "id": "hD0S1zhVg5x5"
      },
      "source": [
        ""
      ],
      "execution_count": null,
      "outputs": []
    },
    {
      "cell_type": "code",
      "metadata": {
        "id": "HJuygVWYlU99"
      },
      "source": [
        "class Account():\n",
        "  def __init__(self,owner,balance):\n",
        "    self.owner=owner\n",
        "    self.balance=balance\n",
        "\n",
        "  def deposit(self,amount):\n",
        "    self.balance=self.balance+amount\n",
        "    return f\"Congratulations! you have successfully deposited {amount} in your bank account and your current balance is now {self.balance}\"\n",
        "  \n",
        "  def withdraw(self,amount):\n",
        "    self.balance=self.balance-amount\n",
        "    return f\"Withdrawl successful! You now have {self.balance} balance in your account.\"\n"
      ],
      "execution_count": null,
      "outputs": []
    },
    {
      "cell_type": "code",
      "metadata": {
        "id": "bWK1tT4ylvUo"
      },
      "source": [
        "my_account=Account(\"Manisha\",10000)"
      ],
      "execution_count": null,
      "outputs": []
    },
    {
      "cell_type": "code",
      "metadata": {
        "colab": {
          "base_uri": "https://localhost:8080/",
          "height": 35
        },
        "id": "5wZoQkCglzYx",
        "outputId": "d4dbfb71-0d2a-410f-c065-02bd1b919d9b"
      },
      "source": [
        "my_account.owner"
      ],
      "execution_count": null,
      "outputs": [
        {
          "output_type": "execute_result",
          "data": {
            "application/vnd.google.colaboratory.intrinsic+json": {
              "type": "string"
            },
            "text/plain": [
              "'Manisha'"
            ]
          },
          "metadata": {},
          "execution_count": 73
        }
      ]
    },
    {
      "cell_type": "code",
      "metadata": {
        "colab": {
          "base_uri": "https://localhost:8080/"
        },
        "id": "uvpTlgQhl1fs",
        "outputId": "24bac741-0493-4a9c-8c55-15adb41e2e83"
      },
      "source": [
        "my_account.balance"
      ],
      "execution_count": null,
      "outputs": [
        {
          "output_type": "execute_result",
          "data": {
            "text/plain": [
              "10000"
            ]
          },
          "metadata": {},
          "execution_count": 74
        }
      ]
    },
    {
      "cell_type": "code",
      "metadata": {
        "id": "MGw1LceYl40E",
        "colab": {
          "base_uri": "https://localhost:8080/"
        },
        "outputId": "b8208aae-de84-4802-b3ac-e5ce594f23a6"
      },
      "source": [
        "amount=int(input(\"Enter the amount you want to deposit.\"))"
      ],
      "execution_count": null,
      "outputs": [
        {
          "name": "stdout",
          "output_type": "stream",
          "text": [
            "Enter the amount you want to deposit.20000\n"
          ]
        }
      ]
    },
    {
      "cell_type": "code",
      "metadata": {
        "colab": {
          "base_uri": "https://localhost:8080/"
        },
        "id": "a0ZjfDevzaEz",
        "outputId": "2eb52690-a1ee-4b23-bd2c-669d8e0b1cb5"
      },
      "source": [
        "print(my_account.deposit(amount))"
      ],
      "execution_count": null,
      "outputs": [
        {
          "output_type": "stream",
          "name": "stdout",
          "text": [
            "Congratulations! you have successfully deposited 20000 in your bank account and your current balance is now 30000\n"
          ]
        }
      ]
    },
    {
      "cell_type": "code",
      "metadata": {
        "colab": {
          "base_uri": "https://localhost:8080/",
          "height": 35
        },
        "id": "Dzot0XiwziOq",
        "outputId": "bcf3da4f-9eed-471b-b3bd-096ea0ee2b63"
      },
      "source": [
        "my_account.withdraw(2000)"
      ],
      "execution_count": null,
      "outputs": [
        {
          "output_type": "execute_result",
          "data": {
            "application/vnd.google.colaboratory.intrinsic+json": {
              "type": "string"
            },
            "text/plain": [
              "'Withdrawl successful! You now have 28000 balance in your account.'"
            ]
          },
          "metadata": {},
          "execution_count": 77
        }
      ]
    },
    {
      "cell_type": "code",
      "metadata": {
        "colab": {
          "base_uri": "https://localhost:8080/"
        },
        "id": "EJckicro0j29",
        "outputId": "99525fd7-14a5-4d8a-a9b0-927ceb280073"
      },
      "source": [
        "my_account.balance"
      ],
      "execution_count": null,
      "outputs": [
        {
          "output_type": "execute_result",
          "data": {
            "text/plain": [
              "28000"
            ]
          },
          "metadata": {},
          "execution_count": 78
        }
      ]
    },
    {
      "cell_type": "code",
      "metadata": {
        "id": "Mhlt0aVE1o44"
      },
      "source": [
        ""
      ],
      "execution_count": null,
      "outputs": []
    }
  ]
}