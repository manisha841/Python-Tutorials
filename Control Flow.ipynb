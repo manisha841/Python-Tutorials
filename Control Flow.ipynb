{
 "cells": [
  {
   "cell_type": "markdown",
   "metadata": {},
   "source": [
    "Control flow is the order in which our program executes. It is useful in making decisions as we can decide what can be the output of the code based on certain conditions. "
   ]
  },
  {
   "cell_type": "markdown",
   "metadata": {},
   "source": [
    "### 1. If/elif/else\n"
   ]
  },
  {
   "cell_type": "code",
   "execution_count": 8,
   "metadata": {},
   "outputs": [
    {
     "name": "stdout",
     "output_type": "stream",
     "text": [
      "4\n",
      "The number 4 is present\n"
     ]
    }
   ],
   "source": [
    "#write a program that checks whether a number lies in between 3 and 20.\n",
    "a=int(input())\n",
    "if a in range(3,21):\n",
    "    print('The number {} is present'.format(a)) #this block will only run if a lies in range(3,21) i.e. if the condition is true.\n",
    "else:\n",
    "    print('The number {} is not present'.format(a)) #this block will run if a does not lie in range(3,21)"
   ]
  },
  {
   "cell_type": "markdown",
   "metadata": {},
   "source": [
    "We can apply elif if we have multiple conditions to check."
   ]
  },
  {
   "cell_type": "markdown",
   "metadata": {},
   "source": [
    "### 2. For loop.\n"
   ]
  },
  {
   "cell_type": "markdown",
   "metadata": {},
   "source": [
    "Before talking about for loop, it is important to discuss what is looping and why it is important.\n",
    "Looping is generally iterating over a sequence.They help to execute a block of code repeatatively allowing us to reduce the program size and hence the time and space. We use repetitive loops to execute the same code many times. This is called iteration. The most basic kind of iteration is the while loop. A while loop will keep executing so long as the condition after the while is True"
   ]
  },
  {
   "cell_type": "markdown",
   "metadata": {},
   "source": [
    "For loop allows us to iterate over a sequence with certain range with fixed number of iterations.\n",
    " for num in number:\n",
    "     print(num)\n",
    " Here, number can be any iterables which can be iterated over such as list,tuple,dictionary or some range and at each iteration num stores each value from number and pass into the block of code and same process is repeated until all the elements in the sequence or iterations are done executing."
   ]
  },
  {
   "cell_type": "code",
   "execution_count": 15,
   "metadata": {},
   "outputs": [
    {
     "name": "stdout",
     "output_type": "stream",
     "text": [
      "Even numbers from the given list are: 4\n",
      "Even numbers from the given list are: 6\n",
      "Even numbers from the given list are: 8\n",
      "Even numbers from the given list are: 4\n",
      "Even numbers from the given list are: 2\n"
     ]
    }
   ],
   "source": [
    "#program to print even numbers from the given list.\n",
    "list1=[1,3,4,6,7,8,4,2]\n",
    "even_list=[]\n",
    "for num in list1:\n",
    "    if num%2==0:\n",
    "        print('Even numbers from the given list are:',num)"
   ]
  },
  {
   "cell_type": "markdown",
   "metadata": {},
   "source": [
    "### 2.While loop"
   ]
  },
  {
   "cell_type": "markdown",
   "metadata": {},
   "source": [
    "The while loop in Python is used to iterate over a block of code as long as the test expression (condition) is true.\n",
    "\n",
    "We generally use this loop when we don't know the number of times to iterate beforehand."
   ]
  },
  {
   "cell_type": "code",
   "execution_count": null,
   "metadata": {},
   "outputs": [],
   "source": []
  }
 ],
 "metadata": {
  "kernelspec": {
   "display_name": "Python 3",
   "language": "python",
   "name": "python3"
  },
  "language_info": {
   "codemirror_mode": {
    "name": "ipython",
    "version": 3
   },
   "file_extension": ".py",
   "mimetype": "text/x-python",
   "name": "python",
   "nbconvert_exporter": "python",
   "pygments_lexer": "ipython3",
   "version": "3.8.3"
  }
 },
 "nbformat": 4,
 "nbformat_minor": 4
}
